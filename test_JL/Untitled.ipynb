{
 "cells": [
  {
   "cell_type": "code",
   "execution_count": 22,
   "metadata": {},
   "outputs": [
    {
     "name": "stdout",
     "output_type": "stream",
     "text": [
      "(95, 98, 3)\n",
      "(32, 32, 3)\n"
     ]
    },
    {
     "data": {
      "text/plain": [
       "\"\\ngrayImg = cv2.cvtColor(img,cv2.COLOR_RGB2GRAY)\\nplt.imshow(grayImg,cmap='gray')\\nprint(grayImg.shape)\\n\""
      ]
     },
     "execution_count": 22,
     "metadata": {},
     "output_type": "execute_result"
    },
    {
     "data": {
      "image/png": "[encoded data removed]",
      "text/plain": [
       "<Figure size 432x288 with 1 Axes>"
      ]
     },
     "metadata": {
      "needs_background": "light"
     },
     "output_type": "display_data"
    }
   ],
   "source": [
    "# load image\n",
    "import numpy as np\n",
    "import matplotlib.pyplot as plt\n",
    "import matplotlib.image as mpimg\n",
    "import cv2\n",
    "\n",
    "def imgMean(img):\n",
    "    output = np.copy(img)\n",
    "    mean_0 = np.mean(img[:,:,0])\n",
    "    mean_1 = np.mean(img[:,:,1])\n",
    "    mean_2 = np.mean(img[:,:,2])\n",
    "    return output\n",
    "\n",
    "img = mpimg.imread(\"stop.jpg\")\n",
    "dim = (32,32)\n",
    "imgRS = cv2.resize(img,dim,interpolation = cv2.INTER_AREA)\n",
    "print(img.shape)\n",
    "print(imgRS.shape)\n",
    "plt.imshow(imgRS)\n",
    "'''\n",
    "grayImg = cv2.cvtColor(img,cv2.COLOR_RGB2GRAY)\n",
    "plt.imshow(grayImg,cmap='gray')\n",
    "print(grayImg.shape)\n",
    "'''"
   ]
  },
  {
   "cell_type": "code",
   "execution_count": null,
   "metadata": {},
   "outputs": [],
   "source": []
  }
 ],
 "metadata": {
  "kernelspec": {
   "display_name": "Python 3",
   "language": "python",
   "name": "python3"
  },
  "language_info": {
   "codemirror_mode": {
    "name": "ipython",
    "version": 3
   },
   "file_extension": ".py",
   "mimetype": "text/x-python",
   "name": "python",
   "nbconvert_exporter": "python",
   "pygments_lexer": "ipython3",
   "version": "3.7.3"
  }
 },
 "nbformat": 4,
 "nbformat_minor": 2
}
